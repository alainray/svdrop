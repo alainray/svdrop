{
 "cells": [
  {
   "cell_type": "markdown",
   "id": "1c3c28c1-1b11-4ba1-818e-fa97755c9c47",
   "metadata": {},
   "source": [
    "## Build DFR samples for CelebA"
   ]
  },
  {
   "cell_type": "code",
   "execution_count": 21,
   "id": "9fe06e5a-253c-4005-9e1d-7e446b508269",
   "metadata": {},
   "outputs": [],
   "source": [
    "import pandas as pd\n",
    "import os\n",
    "import numpy as np\n",
    "def attr_idx(attr_name):\n",
    "    return attr_names.get_loc(attr_name)\n",
    "root_dir = \"../datasets\"\n",
    "target_name = \"Blond_Hair\"\n",
    "metadata_csv_name = \"list_attr_celeba.csv\"\n",
    "confounder_names = ['Male']\n",
    "attrs_df = pd.read_csv(\n",
    "            os.path.join(root_dir, \"celeba\", metadata_csv_name))\n",
    "        # Split out filenames and attribute names\n",
    "data_dir = os.path.join(root_dir, \"celeba\", \"img_align_celeba\")\n",
    "filename_array = attrs_df[\"image_id\"].values\n",
    "attrs_df = attrs_df.drop(labels=\"image_id\", axis=\"columns\")\n",
    "attr_names = attrs_df.columns.copy()\n",
    "\n",
    "# Then cast attributes to numpy array and set them to 0 and 1\n",
    "# (originally, they're -1 and 1)\n",
    "attrs_df = attrs_df.values\n",
    "attrs_df[attrs_df == -1] = 0\n",
    "\n",
    "# Get the y values\n",
    "target_idx = attr_idx(target_name)\n",
    "y_array = attrs_df[:, target_idx]\n",
    "n_classes = 2\n",
    "\n",
    "# Map the confounder attributes to a number 0,...,2^|confounder_idx|-1\n",
    "confounder_idx = [attr_idx(a) for a in confounder_names]\n",
    "n_confounders = len(confounder_idx)\n",
    "confounders = attrs_df[:, confounder_idx]\n",
    "confounder_array = np.matmul(\n",
    "    confounders.astype(int),\n",
    "    np.power(2, np.arange(len(confounder_idx))))\n",
    "\n",
    "# Map to groups\n",
    "n_groups = n_classes * pow(2, len(confounder_idx))\n",
    "group_array = (y_array * (n_groups / 2) +\n",
    "                    confounder_array).astype(\"int\")\n",
    "\n",
    "# Read in train/val/test splits\n",
    "split_df = pd.read_csv(\n",
    "    os.path.join(root_dir, \"celeba\", \"list_eval_partition.csv\"))\n",
    "split_array = split_df[\"partition\"].values\n",
    "split_dict = {\n",
    "    \"train\": 0,\n",
    "    \"val\": 1,\n",
    "    \"test\": 2,\n",
    "}"
   ]
  },
  {
   "cell_type": "code",
   "execution_count": 20,
   "id": "f766c7f9-4bd1-4287-bcdb-34c06921c4e8",
   "metadata": {},
   "outputs": [
    {
     "data": {
      "text/html": [
       "<div>\n",
       "<style scoped>\n",
       "    .dataframe tbody tr th:only-of-type {\n",
       "        vertical-align: middle;\n",
       "    }\n",
       "\n",
       "    .dataframe tbody tr th {\n",
       "        vertical-align: top;\n",
       "    }\n",
       "\n",
       "    .dataframe thead th {\n",
       "        text-align: right;\n",
       "    }\n",
       "</style>\n",
       "<table border=\"1\" class=\"dataframe\">\n",
       "  <thead>\n",
       "    <tr style=\"text-align: right;\">\n",
       "      <th></th>\n",
       "      <th>image_id</th>\n",
       "      <th>partition</th>\n",
       "    </tr>\n",
       "  </thead>\n",
       "  <tbody>\n",
       "    <tr>\n",
       "      <th>0</th>\n",
       "      <td>000001.jpg</td>\n",
       "      <td>0</td>\n",
       "    </tr>\n",
       "    <tr>\n",
       "      <th>1</th>\n",
       "      <td>000002.jpg</td>\n",
       "      <td>0</td>\n",
       "    </tr>\n",
       "    <tr>\n",
       "      <th>2</th>\n",
       "      <td>000003.jpg</td>\n",
       "      <td>0</td>\n",
       "    </tr>\n",
       "    <tr>\n",
       "      <th>3</th>\n",
       "      <td>000004.jpg</td>\n",
       "      <td>0</td>\n",
       "    </tr>\n",
       "    <tr>\n",
       "      <th>4</th>\n",
       "      <td>000005.jpg</td>\n",
       "      <td>0</td>\n",
       "    </tr>\n",
       "    <tr>\n",
       "      <th>...</th>\n",
       "      <td>...</td>\n",
       "      <td>...</td>\n",
       "    </tr>\n",
       "    <tr>\n",
       "      <th>202594</th>\n",
       "      <td>202595.jpg</td>\n",
       "      <td>2</td>\n",
       "    </tr>\n",
       "    <tr>\n",
       "      <th>202595</th>\n",
       "      <td>202596.jpg</td>\n",
       "      <td>2</td>\n",
       "    </tr>\n",
       "    <tr>\n",
       "      <th>202596</th>\n",
       "      <td>202597.jpg</td>\n",
       "      <td>2</td>\n",
       "    </tr>\n",
       "    <tr>\n",
       "      <th>202597</th>\n",
       "      <td>202598.jpg</td>\n",
       "      <td>2</td>\n",
       "    </tr>\n",
       "    <tr>\n",
       "      <th>202598</th>\n",
       "      <td>202599.jpg</td>\n",
       "      <td>2</td>\n",
       "    </tr>\n",
       "  </tbody>\n",
       "</table>\n",
       "<p>202599 rows × 2 columns</p>\n",
       "</div>"
      ],
      "text/plain": [
       "          image_id  partition\n",
       "0       000001.jpg          0\n",
       "1       000002.jpg          0\n",
       "2       000003.jpg          0\n",
       "3       000004.jpg          0\n",
       "4       000005.jpg          0\n",
       "...            ...        ...\n",
       "202594  202595.jpg          2\n",
       "202595  202596.jpg          2\n",
       "202596  202597.jpg          2\n",
       "202597  202598.jpg          2\n",
       "202598  202599.jpg          2\n",
       "\n",
       "[202599 rows x 2 columns]"
      ]
     },
     "execution_count": 20,
     "metadata": {},
     "output_type": "execute_result"
    }
   ],
   "source": [
    "split_df"
   ]
  },
  {
   "cell_type": "code",
   "execution_count": 9,
   "id": "ff341a99-2bf1-4454-8d68-b4581fbfdfa5",
   "metadata": {},
   "outputs": [
    {
     "data": {
      "text/plain": [
       "array([[0, 1, 1, ..., 0, 0, 1],\n",
       "       [0, 0, 0, ..., 0, 0, 1],\n",
       "       [0, 0, 0, ..., 0, 0, 1],\n",
       "       ...,\n",
       "       [0, 0, 0, ..., 0, 0, 1],\n",
       "       [0, 1, 1, ..., 0, 0, 1],\n",
       "       [0, 1, 1, ..., 0, 0, 1]])"
      ]
     },
     "execution_count": 9,
     "metadata": {},
     "output_type": "execute_result"
    }
   ],
   "source": [
    "attrs_df"
   ]
  },
  {
   "cell_type": "code",
   "execution_count": 11,
   "id": "71656385-4d4d-4d4b-8a3b-df6af29adc0f",
   "metadata": {},
   "outputs": [
    {
     "data": {
      "text/plain": [
       "Index(['5_o_Clock_Shadow', 'Arched_Eyebrows', 'Attractive', 'Bags_Under_Eyes',\n",
       "       'Bald', 'Bangs', 'Big_Lips', 'Big_Nose', 'Black_Hair', 'Blond_Hair',\n",
       "       'Blurry', 'Brown_Hair', 'Bushy_Eyebrows', 'Chubby', 'Double_Chin',\n",
       "       'Eyeglasses', 'Goatee', 'Gray_Hair', 'Heavy_Makeup', 'High_Cheekbones',\n",
       "       'Male', 'Mouth_Slightly_Open', 'Mustache', 'Narrow_Eyes', 'No_Beard',\n",
       "       'Oval_Face', 'Pale_Skin', 'Pointy_Nose', 'Receding_Hairline',\n",
       "       'Rosy_Cheeks', 'Sideburns', 'Smiling', 'Straight_Hair', 'Wavy_Hair',\n",
       "       'Wearing_Earrings', 'Wearing_Hat', 'Wearing_Lipstick',\n",
       "       'Wearing_Necklace', 'Wearing_Necktie', 'Young'],\n",
       "      dtype='object')"
      ]
     },
     "execution_count": 11,
     "metadata": {},
     "output_type": "execute_result"
    }
   ],
   "source": [
    "attr_names"
   ]
  },
  {
   "cell_type": "code",
   "execution_count": 22,
   "id": "26fad0b9-f496-4dfc-9048-199849a8c77e",
   "metadata": {},
   "outputs": [],
   "source": [
    "split_df = pd.read_csv(\n",
    "    os.path.join(root_dir, \"celeba\", \"list_eval_partition.csv\"))"
   ]
  },
  {
   "cell_type": "code",
   "execution_count": 23,
   "id": "d8fa0902-c299-460d-8fe5-126098a61b3c",
   "metadata": {},
   "outputs": [
    {
     "data": {
      "text/html": [
       "<div>\n",
       "<style scoped>\n",
       "    .dataframe tbody tr th:only-of-type {\n",
       "        vertical-align: middle;\n",
       "    }\n",
       "\n",
       "    .dataframe tbody tr th {\n",
       "        vertical-align: top;\n",
       "    }\n",
       "\n",
       "    .dataframe thead th {\n",
       "        text-align: right;\n",
       "    }\n",
       "</style>\n",
       "<table border=\"1\" class=\"dataframe\">\n",
       "  <thead>\n",
       "    <tr style=\"text-align: right;\">\n",
       "      <th></th>\n",
       "      <th>image_id</th>\n",
       "      <th>partition</th>\n",
       "    </tr>\n",
       "  </thead>\n",
       "  <tbody>\n",
       "    <tr>\n",
       "      <th>0</th>\n",
       "      <td>000001.jpg</td>\n",
       "      <td>0</td>\n",
       "    </tr>\n",
       "    <tr>\n",
       "      <th>1</th>\n",
       "      <td>000002.jpg</td>\n",
       "      <td>0</td>\n",
       "    </tr>\n",
       "    <tr>\n",
       "      <th>2</th>\n",
       "      <td>000003.jpg</td>\n",
       "      <td>0</td>\n",
       "    </tr>\n",
       "    <tr>\n",
       "      <th>3</th>\n",
       "      <td>000004.jpg</td>\n",
       "      <td>0</td>\n",
       "    </tr>\n",
       "    <tr>\n",
       "      <th>4</th>\n",
       "      <td>000005.jpg</td>\n",
       "      <td>0</td>\n",
       "    </tr>\n",
       "    <tr>\n",
       "      <th>...</th>\n",
       "      <td>...</td>\n",
       "      <td>...</td>\n",
       "    </tr>\n",
       "    <tr>\n",
       "      <th>202594</th>\n",
       "      <td>202595.jpg</td>\n",
       "      <td>2</td>\n",
       "    </tr>\n",
       "    <tr>\n",
       "      <th>202595</th>\n",
       "      <td>202596.jpg</td>\n",
       "      <td>2</td>\n",
       "    </tr>\n",
       "    <tr>\n",
       "      <th>202596</th>\n",
       "      <td>202597.jpg</td>\n",
       "      <td>2</td>\n",
       "    </tr>\n",
       "    <tr>\n",
       "      <th>202597</th>\n",
       "      <td>202598.jpg</td>\n",
       "      <td>2</td>\n",
       "    </tr>\n",
       "    <tr>\n",
       "      <th>202598</th>\n",
       "      <td>202599.jpg</td>\n",
       "      <td>2</td>\n",
       "    </tr>\n",
       "  </tbody>\n",
       "</table>\n",
       "<p>202599 rows × 2 columns</p>\n",
       "</div>"
      ],
      "text/plain": [
       "          image_id  partition\n",
       "0       000001.jpg          0\n",
       "1       000002.jpg          0\n",
       "2       000003.jpg          0\n",
       "3       000004.jpg          0\n",
       "4       000005.jpg          0\n",
       "...            ...        ...\n",
       "202594  202595.jpg          2\n",
       "202595  202596.jpg          2\n",
       "202596  202597.jpg          2\n",
       "202597  202598.jpg          2\n",
       "202598  202599.jpg          2\n",
       "\n",
       "[202599 rows x 2 columns]"
      ]
     },
     "execution_count": 23,
     "metadata": {},
     "output_type": "execute_result"
    }
   ],
   "source": [
    "split_df"
   ]
  },
  {
   "cell_type": "code",
   "execution_count": 25,
   "id": "dbe2fc7b-5d22-4ac6-a840-5aa8e6233a43",
   "metadata": {},
   "outputs": [],
   "source": [
    "# Perform inner join on the 'key' column\n",
    "metadata_csv_name = \"list_attr_celeba.csv\"\n",
    "confounder_names = ['Male']\n",
    "attrs_df = pd.read_csv(\n",
    "            os.path.join(root_dir, \"celeba\", metadata_csv_name))\n"
   ]
  },
  {
   "cell_type": "code",
   "execution_count": 26,
   "id": "7d95d4e1-5c14-4980-a830-cbe436d8b24c",
   "metadata": {},
   "outputs": [],
   "source": [
    "result = pd.merge(attrs_df, split_df, on='image_id', how='inner')"
   ]
  },
  {
   "cell_type": "code",
   "execution_count": 28,
   "id": "6da7c244-5fde-470e-b731-11cd4769cfbf",
   "metadata": {},
   "outputs": [
    {
     "data": {
      "text/html": [
       "<div>\n",
       "<style scoped>\n",
       "    .dataframe tbody tr th:only-of-type {\n",
       "        vertical-align: middle;\n",
       "    }\n",
       "\n",
       "    .dataframe tbody tr th {\n",
       "        vertical-align: top;\n",
       "    }\n",
       "\n",
       "    .dataframe thead th {\n",
       "        text-align: right;\n",
       "    }\n",
       "</style>\n",
       "<table border=\"1\" class=\"dataframe\">\n",
       "  <thead>\n",
       "    <tr style=\"text-align: right;\">\n",
       "      <th></th>\n",
       "      <th>image_id</th>\n",
       "      <th>Male</th>\n",
       "      <th>Blond_Hair</th>\n",
       "      <th>partition</th>\n",
       "    </tr>\n",
       "  </thead>\n",
       "  <tbody>\n",
       "    <tr>\n",
       "      <th>0</th>\n",
       "      <td>000001.jpg</td>\n",
       "      <td>-1</td>\n",
       "      <td>-1</td>\n",
       "      <td>0</td>\n",
       "    </tr>\n",
       "    <tr>\n",
       "      <th>1</th>\n",
       "      <td>000002.jpg</td>\n",
       "      <td>-1</td>\n",
       "      <td>-1</td>\n",
       "      <td>0</td>\n",
       "    </tr>\n",
       "    <tr>\n",
       "      <th>2</th>\n",
       "      <td>000003.jpg</td>\n",
       "      <td>1</td>\n",
       "      <td>-1</td>\n",
       "      <td>0</td>\n",
       "    </tr>\n",
       "    <tr>\n",
       "      <th>3</th>\n",
       "      <td>000004.jpg</td>\n",
       "      <td>-1</td>\n",
       "      <td>-1</td>\n",
       "      <td>0</td>\n",
       "    </tr>\n",
       "    <tr>\n",
       "      <th>4</th>\n",
       "      <td>000005.jpg</td>\n",
       "      <td>-1</td>\n",
       "      <td>-1</td>\n",
       "      <td>0</td>\n",
       "    </tr>\n",
       "    <tr>\n",
       "      <th>...</th>\n",
       "      <td>...</td>\n",
       "      <td>...</td>\n",
       "      <td>...</td>\n",
       "      <td>...</td>\n",
       "    </tr>\n",
       "    <tr>\n",
       "      <th>202594</th>\n",
       "      <td>202595.jpg</td>\n",
       "      <td>-1</td>\n",
       "      <td>1</td>\n",
       "      <td>2</td>\n",
       "    </tr>\n",
       "    <tr>\n",
       "      <th>202595</th>\n",
       "      <td>202596.jpg</td>\n",
       "      <td>1</td>\n",
       "      <td>1</td>\n",
       "      <td>2</td>\n",
       "    </tr>\n",
       "    <tr>\n",
       "      <th>202596</th>\n",
       "      <td>202597.jpg</td>\n",
       "      <td>1</td>\n",
       "      <td>-1</td>\n",
       "      <td>2</td>\n",
       "    </tr>\n",
       "    <tr>\n",
       "      <th>202597</th>\n",
       "      <td>202598.jpg</td>\n",
       "      <td>-1</td>\n",
       "      <td>-1</td>\n",
       "      <td>2</td>\n",
       "    </tr>\n",
       "    <tr>\n",
       "      <th>202598</th>\n",
       "      <td>202599.jpg</td>\n",
       "      <td>-1</td>\n",
       "      <td>1</td>\n",
       "      <td>2</td>\n",
       "    </tr>\n",
       "  </tbody>\n",
       "</table>\n",
       "<p>202599 rows × 4 columns</p>\n",
       "</div>"
      ],
      "text/plain": [
       "          image_id  Male  Blond_Hair  partition\n",
       "0       000001.jpg    -1          -1          0\n",
       "1       000002.jpg    -1          -1          0\n",
       "2       000003.jpg     1          -1          0\n",
       "3       000004.jpg    -1          -1          0\n",
       "4       000005.jpg    -1          -1          0\n",
       "...            ...   ...         ...        ...\n",
       "202594  202595.jpg    -1           1          2\n",
       "202595  202596.jpg     1           1          2\n",
       "202596  202597.jpg     1          -1          2\n",
       "202597  202598.jpg    -1          -1          2\n",
       "202598  202599.jpg    -1           1          2\n",
       "\n",
       "[202599 rows x 4 columns]"
      ]
     },
     "execution_count": 28,
     "metadata": {},
     "output_type": "execute_result"
    }
   ],
   "source": [
    "result[['image_id','Male','Blond_Hair','partition']]"
   ]
  },
  {
   "cell_type": "code",
   "execution_count": 55,
   "id": "dfffd3f5-e900-410a-a7c7-3ba09ea2f410",
   "metadata": {},
   "outputs": [
    {
     "name": "stdout",
     "output_type": "stream",
     "text": [
      "        image_id  5_o_Clock_Shadow  Arched_Eyebrows  Attractive  \\\n",
      "0     049226.jpg                -1               -1           1   \n",
      "1     070383.jpg                -1               -1           1   \n",
      "2     052012.jpg                -1               -1           1   \n",
      "3     032348.jpg                -1               -1          -1   \n",
      "4     119344.jpg                -1               -1          -1   \n",
      "...          ...               ...              ...         ...   \n",
      "5543  127526.jpg                -1               -1          -1   \n",
      "5544  132131.jpg                 1               -1           1   \n",
      "5545  150770.jpg                -1               -1          -1   \n",
      "5546  100666.jpg                -1               -1          -1   \n",
      "5547  131762.jpg                -1               -1          -1   \n",
      "\n",
      "      Bags_Under_Eyes  Bald  Bangs  Big_Lips  Big_Nose  Black_Hair  ...  \\\n",
      "0                  -1    -1     -1         1        -1          -1  ...   \n",
      "1                  -1    -1     -1         1        -1           1  ...   \n",
      "2                  -1    -1     -1        -1        -1           1  ...   \n",
      "3                  -1    -1      1        -1        -1          -1  ...   \n",
      "4                  -1    -1     -1        -1        -1           1  ...   \n",
      "...               ...   ...    ...       ...       ...         ...  ...   \n",
      "5543               -1    -1     -1        -1         1          -1  ...   \n",
      "5544               -1    -1     -1        -1        -1          -1  ...   \n",
      "5545               -1    -1     -1        -1        -1          -1  ...   \n",
      "5546               -1    -1     -1        -1         1          -1  ...   \n",
      "5547                1    -1     -1         1         1          -1  ...   \n",
      "\n",
      "      Smiling  Straight_Hair  Wavy_Hair  Wearing_Earrings  Wearing_Hat  \\\n",
      "0          -1             -1         -1                -1           -1   \n",
      "1           1             -1         -1                -1           -1   \n",
      "2          -1             -1         -1                -1           -1   \n",
      "3           1             -1          1                -1           -1   \n",
      "4          -1              1         -1                -1           -1   \n",
      "...       ...            ...        ...               ...          ...   \n",
      "5543        1              1         -1                -1           -1   \n",
      "5544        1             -1          1                -1           -1   \n",
      "5545       -1             -1         -1                -1           -1   \n",
      "5546        1             -1         -1                -1           -1   \n",
      "5547        1             -1         -1                -1           -1   \n",
      "\n",
      "      Wearing_Lipstick  Wearing_Necklace  Wearing_Necktie  Young  partition  \n",
      "0                   -1                -1               -1      1          0  \n",
      "1                    1                -1               -1      1          0  \n",
      "2                    1                -1               -1      1          0  \n",
      "3                   -1                -1               -1     -1          0  \n",
      "4                    1                -1               -1      1          0  \n",
      "...                ...               ...              ...    ...        ...  \n",
      "5543                -1                -1                1     -1          0  \n",
      "5544                -1                -1               -1      1          0  \n",
      "5545                -1                -1               -1      1          0  \n",
      "5546                -1                -1               -1      1          0  \n",
      "5547                -1                -1                1     -1          0  \n",
      "\n",
      "[5548 rows x 42 columns]\n"
     ]
    }
   ],
   "source": [
    "# Group by 'Male' and 'Blond_Hair' columns\n",
    "grouped = result[result['partition']==0].groupby(['Male', 'Blond_Hair'])\n",
    "\n",
    "# Get the minimum number of rows across all groups\n",
    "min_rows = grouped.size().min()\n",
    "\n",
    "# Subsample each group to have the same number of rows\n",
    "subsampled_df = grouped.apply(lambda x: x.sample(min_rows, random_state=42))\n",
    "\n",
    "# Reset index\n",
    "subsampled_df.reset_index(drop=True, inplace=True)\n",
    "\n",
    "print(subsampled_df)"
   ]
  },
  {
   "cell_type": "code",
   "execution_count": 56,
   "id": "c122cb6b-e406-4397-b6bf-798385eac79a",
   "metadata": {},
   "outputs": [
    {
     "name": "stdout",
     "output_type": "stream",
     "text": [
      "Male  Blond_Hair\n",
      "-1    -1            1387\n",
      "       1            1387\n",
      " 1    -1            1387\n",
      "       1            1387\n",
      "dtype: int64\n"
     ]
    }
   ],
   "source": [
    "print(subsampled_df.groupby(['Male', 'Blond_Hair']).size())"
   ]
  },
  {
   "cell_type": "code",
   "execution_count": 57,
   "id": "e76e3d7e-ef02-42e1-9e14-8827a76efa18",
   "metadata": {},
   "outputs": [
    {
     "name": "stdout",
     "output_type": "stream",
     "text": [
      "Male  Blond_Hair\n",
      "-1    -1            89931\n",
      "       1            28234\n",
      " 1    -1            82685\n",
      "       1             1749\n",
      "dtype: int64\n"
     ]
    }
   ],
   "source": [
    "print(result.groupby(['Male', 'Blond_Hair']).size())"
   ]
  },
  {
   "cell_type": "code",
   "execution_count": 58,
   "id": "fec99f64-826f-4f7f-850a-1d59765a6179",
   "metadata": {},
   "outputs": [
    {
     "name": "stdout",
     "output_type": "stream",
     "text": [
      "(162770, 42)\n"
     ]
    }
   ],
   "source": [
    "print(result[result['partition']==0].shape)"
   ]
  },
  {
   "cell_type": "code",
   "execution_count": 59,
   "id": "57c4f094-264b-4bd3-8101-8d3b690cf22c",
   "metadata": {},
   "outputs": [
    {
     "data": {
      "text/plain": [
       "0.008416784419733366"
      ]
     },
     "execution_count": 59,
     "metadata": {},
     "output_type": "execute_result"
    }
   ],
   "source": [
    "1370/162770"
   ]
  },
  {
   "cell_type": "code",
   "execution_count": 60,
   "id": "bfbd2e8b-b753-47de-a08a-9aa144a92398",
   "metadata": {},
   "outputs": [],
   "source": [
    "r = pd.concat([subsampled_df, result[result['partition']!=0]])"
   ]
  },
  {
   "cell_type": "code",
   "execution_count": 61,
   "id": "bb931958-84a5-4951-8418-a9788c9ab204",
   "metadata": {},
   "outputs": [
    {
     "name": "stdout",
     "output_type": "stream",
     "text": [
      "partition  Male  Blond_Hair\n",
      "0          -1    -1            1387\n",
      "                  1            1387\n",
      "            1    -1            1387\n",
      "                  1            1387\n",
      "1          -1    -1            8535\n",
      "                  1            2874\n",
      "            1    -1            8276\n",
      "                  1             182\n",
      "2          -1    -1            9767\n",
      "                  1            2480\n",
      "            1    -1            7535\n",
      "                  1             180\n",
      "dtype: int64\n"
     ]
    }
   ],
   "source": [
    "print(r.groupby(['partition','Male', 'Blond_Hair']).size())"
   ]
  },
  {
   "cell_type": "code",
   "execution_count": 62,
   "id": "6358c0ac-f8e9-420a-a0de-d3fb487aa1f2",
   "metadata": {},
   "outputs": [],
   "source": [
    "selected_df = r.drop(columns=['partition'])\n",
    "selected_df.to_csv(\"list_attr_celeba_dfr.csv\",index=False)"
   ]
  },
  {
   "cell_type": "code",
   "execution_count": 63,
   "id": "8d703f45-2dd3-4104-90c6-ada755c2c572",
   "metadata": {},
   "outputs": [],
   "source": [
    "r[['image_id','partition']].to_csv(\"list_eval_partition_dfr.csv\",index=False)"
   ]
  },
  {
   "cell_type": "markdown",
   "id": "083b00f3-71f7-4061-b113-ebef2c03c8c5",
   "metadata": {},
   "source": [
    "!pwd"
   ]
  },
  {
   "cell_type": "markdown",
   "id": "b0363e21-ca99-4ef5-bfd5-93427ca1fb6b",
   "metadata": {},
   "source": [
    "## Sample from Datasets"
   ]
  },
  {
   "cell_type": "code",
   "execution_count": 71,
   "id": "42cb96db-e10e-403f-9fa8-d2de7df6ed36",
   "metadata": {},
   "outputs": [],
   "source": [
    "from PIL import Image\n",
    "from os import listdir\n",
    "# Load your images\n",
    "image_paths = []\n",
    "root = \"pics/wb\"\n",
    "for f in listdir(root):\n",
    "    image_paths.append(f)\n",
    "#image_paths = ['image1.jpg', 'image2.jpg', 'image3.jpg']  # Replace with your image paths\n",
    "def resize_image(image, target_size):\n",
    "    return image.resize(target_size)\n",
    "\n",
    "# Load your images and resize them to the same size\n",
    "target_size = (50, 50)  # Specify the target size for resizing\n",
    "images = [resize_image(Image.open(f\"{root}/{path}\"), target_size) for path in image_paths]\n",
    "\n",
    "# Specify the number of rows and columns for tiling\n",
    "num_rows = 3\n",
    "num_columns = 5\n",
    "\n",
    "# Calculate the width and height of each tile\n",
    "tile_width = target_size[0]\n",
    "tile_height = target_size[1]\n",
    "\n",
    "# Create a new blank image with the calculated dimensions\n",
    "new_image_width = tile_width * num_columns\n",
    "new_image_height = tile_height * num_rows\n",
    "new_image = Image.new('RGB', (new_image_width, new_image_height))\n",
    "\n",
    "# Paste each image into the new image, tiling row by row\n",
    "for i, image in enumerate(images):\n",
    "    row_index = i // num_columns\n",
    "    col_index = i % num_columns\n",
    "    x_offset = col_index * tile_width\n",
    "    y_offset = row_index * tile_height\n",
    "    new_image.paste(image, (x_offset, y_offset))\n",
    "\n",
    "# Save the new image\n",
    "new_image.save('tiled_image.jpg')"
   ]
  },
  {
   "cell_type": "code",
   "execution_count": 66,
   "id": "c442d4f0-e7bc-47ea-817f-0d91ef670505",
   "metadata": {},
   "outputs": [
    {
     "data": {
      "text/plain": [
       "'tiled_image.jpg'"
      ]
     },
     "metadata": {},
     "output_type": "display_data"
    }
   ],
   "source": [
    "from IPython.display import display\n",
    "display(\"tiled_image.jpg\")"
   ]
  },
  {
   "cell_type": "code",
   "execution_count": 74,
   "id": "9af8073c-3b8e-4260-857f-8cdefe818a22",
   "metadata": {},
   "outputs": [],
   "source": [
    "import torch\n",
    "root = \"../datasets/MNISTCIFAR/MNIST_CIFAR_0.0.pth\"\n",
    "a = torch.load(root)"
   ]
  },
  {
   "cell_type": "code",
   "execution_count": 78,
   "id": "53df2309-4338-4c25-8810-8a24e319ae37",
   "metadata": {},
   "outputs": [
    {
     "data": {
      "text/plain": [
       "torch.Size([15, 3, 64, 32])"
      ]
     },
     "execution_count": 78,
     "metadata": {},
     "output_type": "execute_result"
    }
   ],
   "source": [
    "a['train']['data'][0:15].shape"
   ]
  },
  {
   "cell_type": "code",
   "execution_count": 82,
   "id": "3664d63c-97c1-4ddc-ac3f-58ecbf3b29d0",
   "metadata": {},
   "outputs": [],
   "source": [
    "import torch\n",
    "from torchvision import transforms\n",
    "from PIL import Image\n",
    "\n",
    "# Function to resize tensors to the same size and convert to PIL images\n",
    "def tensor_to_image(tensor, target_size):\n",
    "    tensor = transforms.functional.resize(tensor, target_size)\n",
    "    tensor = transforms.functional.to_pil_image(tensor)\n",
    "    return tensor\n",
    "\n",
    "# Sample PyTorch tensors (replace with your actual tensors)\n",
    "tensor1 = torch.rand(3, 100, 150)  # Example tensor shape: 3 channels, 100 height, 150 width\n",
    "tensor2 = torch.rand(3, 120, 180)\n",
    "tensor3 = torch.rand(3, 80, 120)\n",
    "tensors = a['train']['data'][0:15]\n",
    "\n",
    "# Specify the target 4size for resizing\n",
    "target_size = (50, 50)\n",
    "\n",
    "# Resize tensors to the same size and convert to PIL images\n",
    "images = [tensor_to_image(tensor, target_size) for tensor in tensors]\n",
    "\n",
    "# Specify the number of rows and columns for tiling\n",
    "num_rows = 3\n",
    "num_columns = 5\n",
    "\n",
    "# Calculate the width and height of each tile\n",
    "tile_width = target_size[0]\n",
    "tile_height = target_size[1]\n",
    "\n",
    "# Create a new blank image with the calculated dimensions\n",
    "new_image_width = tile_width * num_columns\n",
    "new_image_height = tile_height * num_rows\n",
    "new_image = Image.new('RGB', (new_image_width, new_image_height))\n",
    "\n",
    "# Paste each image into the new image, tiling row by row\n",
    "for i, image in enumerate(images):\n",
    "    row_index = i // num_columns\n",
    "    col_index = i % num_columns\n",
    "    x_offset = col_index * tile_width\n",
    "    y_offset = row_index * tile_height\n",
    "    new_image.paste(image, (x_offset, y_offset))\n",
    "\n",
    "# Save the new image\n",
    "new_image.save('tiled_image.jpg')"
   ]
  },
  {
   "cell_type": "code",
   "execution_count": null,
   "id": "e7907a58-1439-4229-a7e9-adeae8ec25a6",
   "metadata": {},
   "outputs": [],
   "source": []
  }
 ],
 "metadata": {
  "kernelspec": {
   "display_name": "Python 3 (ipykernel)",
   "language": "python",
   "name": "python3"
  },
  "language_info": {
   "codemirror_mode": {
    "name": "ipython",
    "version": 3
   },
   "file_extension": ".py",
   "mimetype": "text/x-python",
   "name": "python",
   "nbconvert_exporter": "python",
   "pygments_lexer": "ipython3",
   "version": "3.10.12"
  }
 },
 "nbformat": 4,
 "nbformat_minor": 5
}
