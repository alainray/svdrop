{
 "cells": [
  {
   "cell_type": "markdown",
   "id": "1c3c28c1-1b11-4ba1-818e-fa97755c9c47",
   "metadata": {},
   "source": [
    "## Build DFR samples for Waterbirds"
   ]
  },
  {
   "cell_type": "code",
   "execution_count": 21,
   "id": "9fe06e5a-253c-4005-9e1d-7e446b508269",
   "metadata": {},
   "outputs": [
    {
     "name": "stdout",
     "output_type": "stream",
     "text": [
      "For waterbird_complete50_forest2water2, % of original size: 46.30%:\n",
      "split  y  place\n",
      "0      0  0         555\n",
      "          1         555\n",
      "       1  0         555\n",
      "          1         555\n",
      "1      0  0         465\n",
      "          1         466\n",
      "       1  0         134\n",
      "          1         134\n",
      "2      0  0        2255\n",
      "          1        2255\n",
      "       1  0         642\n",
      "          1         642\n",
      "dtype: int64\n",
      "For waterbird_complete625_forest2water2, % of original size: 35.70%:\n",
      "split  y  place\n",
      "0      0  0         428\n",
      "          1         428\n",
      "       1  0         428\n",
      "          1         428\n",
      "1      0  0         481\n",
      "          1         481\n",
      "       1  0         119\n",
      "          1         118\n",
      "2      0  0        2255\n",
      "          1        2255\n",
      "       1  0         642\n",
      "          1         642\n",
      "dtype: int64\n",
      "For waterbird_complete75_forest2water2, % of original size: 22.52%:\n",
      "split  y  place\n",
      "0      0  0         270\n",
      "          1         270\n",
      "       1  0         270\n",
      "          1         270\n",
      "1      0  0         451\n",
      "          1         451\n",
      "       1  0         149\n",
      "          1         148\n",
      "2      0  0        2255\n",
      "          1        2255\n",
      "       1  0         642\n",
      "          1         642\n",
      "dtype: int64\n",
      "For waterbird_complete875_forest2water2, % of original size: 11.76%:\n",
      "split  y  place\n",
      "0      0  0         141\n",
      "          1         141\n",
      "       1  0         141\n",
      "          1         141\n",
      "1      0  0         473\n",
      "          1         474\n",
      "       1  0         126\n",
      "          1         126\n",
      "2      0  0        2255\n",
      "          1        2255\n",
      "       1  0         642\n",
      "          1         642\n",
      "dtype: int64\n",
      "For waterbird_complete95_forest2water2, % of original size: 4.67%:\n",
      "split  y  place\n",
      "0      0  0          56\n",
      "          1          56\n",
      "       1  0          56\n",
      "          1          56\n",
      "1      0  0         467\n",
      "          1         466\n",
      "       1  0         133\n",
      "          1         133\n",
      "2      0  0        2255\n",
      "          1        2255\n",
      "       1  0         642\n",
      "          1         642\n",
      "dtype: int64\n"
     ]
    }
   ],
   "source": [
    "import pandas as pd\n",
    "import os\n",
    "import numpy as np\n",
    "\n",
    "root_dir = \"../datasets/\"\n",
    "metadata_csv_name = \"metadata.csv\"\n",
    "for spur in [50, 625, 75, 875, 95]:\n",
    "    ds = f\"waterbird_complete{spur}_forest2water2\"\n",
    "    attrs_df = pd.read_csv(\n",
    "                os.path.join(root_dir, ds, metadata_csv_name))\n",
    "            # Split out filenames and attribute names\n",
    "    data_dir = os.path.join(root_dir, ds)\n",
    "    \n",
    "    # Group by 'Male' and 'Blond_Hair' columns\n",
    "    grouped = attrs_df[attrs_df['split']==0].groupby(['y', 'place'])\n",
    "    n = len(attrs_df[attrs_df['split']==0])\n",
    "    # Get the minimum number of rows across all groups\n",
    "    min_rows = grouped.size().min()\n",
    "    \n",
    "    # Subsample each group to have the same number of rows\n",
    "    subsampled_df = grouped.apply(lambda x: x.sample(min_rows, random_state=42))\n",
    "    \n",
    "    # Reset index\n",
    "    subsampled_df.reset_index(drop=True, inplace=True)\n",
    "    \n",
    "    r = pd.concat([subsampled_df, attrs_df[attrs_df['split']!=0]])\n",
    "    r.to_csv(os.path.join(data_dir,\"metadata_dfr.csv\"),index=False)\n",
    "    \n",
    "    attrs_df = pd.read_csv(\n",
    "                os.path.join(data_dir,\"metadata_dfr.csv\"))\n",
    "    print(f\"For {ds}, % of original size: {100*len(subsampled_df)/n:.2f}%:\")\n",
    "    print(attrs_df.groupby([\n",
    "        'split','y', 'place']).size())"
   ]
  },
  {
   "cell_type": "code",
   "execution_count": 3,
   "id": "568e70de-dfa5-476a-bc3b-e06dbb70dbcb",
   "metadata": {},
   "outputs": [
    {
     "data": {
      "text/plain": [
       "(0.7710583153347733,\n",
       " 0.4863930885529158,\n",
       " 0.25399568034557235,\n",
       " 0.10086393088552917)"
      ]
     },
     "execution_count": 3,
     "metadata": {},
     "output_type": "execute_result"
    }
   ],
   "source": [
    "35.70/46.3, 22.52/46.3, 11.76/46.3, 4.67/46.3"
   ]
  },
  {
   "cell_type": "code",
   "execution_count": 18,
   "id": "9384ec9b-f516-40eb-8377-73c17492f111",
   "metadata": {},
   "outputs": [
    {
     "name": "stdout",
     "output_type": "stream",
     "text": [
      "split  y  place\n",
      "0      0  0         555\n",
      "          1         555\n",
      "       1  0         555\n",
      "          1         555\n",
      "1      0  0         465\n",
      "          1         466\n",
      "       1  0         134\n",
      "          1         134\n",
      "2      0  0        2255\n",
      "          1        2255\n",
      "       1  0         642\n",
      "          1         642\n",
      "dtype: int64\n"
     ]
    }
   ],
   "source": []
  },
  {
   "cell_type": "code",
   "execution_count": 9,
   "id": "ff341a99-2bf1-4454-8d68-b4581fbfdfa5",
   "metadata": {},
   "outputs": [
    {
     "data": {
      "text/plain": [
       "array([[0, 1, 1, ..., 0, 0, 1],\n",
       "       [0, 0, 0, ..., 0, 0, 1],\n",
       "       [0, 0, 0, ..., 0, 0, 1],\n",
       "       ...,\n",
       "       [0, 0, 0, ..., 0, 0, 1],\n",
       "       [0, 1, 1, ..., 0, 0, 1],\n",
       "       [0, 1, 1, ..., 0, 0, 1]])"
      ]
     },
     "execution_count": 9,
     "metadata": {},
     "output_type": "execute_result"
    }
   ],
   "source": [
    "attrs_df"
   ]
  },
  {
   "cell_type": "code",
   "execution_count": 59,
   "id": "57c4f094-264b-4bd3-8101-8d3b690cf22c",
   "metadata": {},
   "outputs": [
    {
     "data": {
      "text/plain": [
       "0.008416784419733366"
      ]
     },
     "execution_count": 59,
     "metadata": {},
     "output_type": "execute_result"
    }
   ],
   "source": [
    "1370/162770"
   ]
  }
 ],
 "metadata": {
  "kernelspec": {
   "display_name": "Python 3 (ipykernel)",
   "language": "python",
   "name": "python3"
  },
  "language_info": {
   "codemirror_mode": {
    "name": "ipython",
    "version": 3
   },
   "file_extension": ".py",
   "mimetype": "text/x-python",
   "name": "python",
   "nbconvert_exporter": "python",
   "pygments_lexer": "ipython3",
   "version": "3.10.12"
  }
 },
 "nbformat": 4,
 "nbformat_minor": 5
}
